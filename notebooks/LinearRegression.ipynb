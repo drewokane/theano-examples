{
 "cells": [
  {
   "cell_type": "code",
   "execution_count": 1,
   "metadata": {
    "collapsed": false
   },
   "outputs": [
    {
     "name": "stdout",
     "output_type": "stream",
     "text": [
      "Sat Feb 20 10:07:02 PST 2016\r\n"
     ]
    }
   ],
   "source": [
    "!date"
   ]
  },
  {
   "cell_type": "code",
   "execution_count": 2,
   "metadata": {
    "collapsed": false
   },
   "outputs": [
    {
     "name": "stderr",
     "output_type": "stream",
     "text": [
      "/Users/drew.okane/anaconda/envs/deo-env/lib/python2.7/site-packages/ipykernel/__main__.py:11: FutureWarning: The pandas.rpy module is deprecated and will be removed in a future version. We refer to external packages like rpy2. \n",
      "See here for a guide on how to port your code to rpy2: http://pandas.pydata.org/pandas-docs/stable/r_interface.html\n"
     ]
    }
   ],
   "source": [
    "%matplotlib inline\n",
    "\n",
    "from __future__ import division, print_function\n",
    "\n",
    "import theano\n",
    "import numpy as np\n",
    "import pandas as pd\n",
    "import seaborn as sns\n",
    "import statsmodels as sm\n",
    "import matplotlib.pyplot as plt\n",
    "import pandas.rpy.common as common\n",
    "\n",
    "from time import time\n",
    "from scipy.optimize import minimize\n",
    "from theano import In, tensor, function, shared"
   ]
  },
  {
   "cell_type": "markdown",
   "metadata": {},
   "source": [
    "# Linear Regression"
   ]
  },
  {
   "cell_type": "markdown",
   "metadata": {},
   "source": [
    "Linear regression is perhaps the simplest example of a statistical/machine learning problem. For example, say we want to hypothesize that there is a relationship between the stopping distance of a car and its speed, as found in the 'cars' data set."
   ]
  },
  {
   "cell_type": "code",
   "execution_count": 3,
   "metadata": {
    "collapsed": true
   },
   "outputs": [],
   "source": [
    "df = common.load_data('cars')"
   ]
  },
  {
   "cell_type": "code",
   "execution_count": 4,
   "metadata": {
    "collapsed": false
   },
   "outputs": [
    {
     "name": "stdout",
     "output_type": "stream",
     "text": [
      "<class 'pandas.core.frame.DataFrame'>\n",
      "Int64Index: 50 entries, 1 to 50\n",
      "Data columns (total 2 columns):\n",
      "speed    50 non-null float64\n",
      "dist     50 non-null float64\n",
      "dtypes: float64(2)\n",
      "memory usage: 1.2 KB\n"
     ]
    }
   ],
   "source": [
    "df.info()"
   ]
  },
  {
   "cell_type": "markdown",
   "metadata": {},
   "source": [
    "If we look at the data, you could potentially see a linear relationship between these two variables, i.e. dist = m * speed + constant. This is of course approximate. There is going to be some error so we hypothesize, conveniently but perhaps inappropriately, that the errors are normally distributed, with mean zero, and with some variance we don't know yet."
   ]
  },
  {
   "cell_type": "code",
   "execution_count": 5,
   "metadata": {
    "collapsed": false
   },
   "outputs": [
    {
     "data": {
      "text/plain": [
       "<matplotlib.axes._subplots.AxesSubplot at 0x1136fa410>"
      ]
     },
     "execution_count": 5,
     "metadata": {},
     "output_type": "execute_result"
    },
    {
     "name": "stderr",
     "output_type": "stream",
     "text": [
      "/Users/drew.okane/anaconda/envs/deo-env/lib/python2.7/site-packages/matplotlib/collections.py:590: FutureWarning: elementwise comparison failed; returning scalar instead, but in the future will perform elementwise comparison\n",
      "  if self._edgecolors == str('face'):\n"
     ]
    },
    {
     "data": {
      "image/png": "[encoded data removed]",
      "text/plain": [
       "<matplotlib.figure.Figure at 0x1069ffc10>"
      ]
     },
     "metadata": {},
     "output_type": "display_data"
    }
   ],
   "source": [
    "sns.regplot('speed', 'dist', data=df, fit_reg=False)"
   ]
  },
  {
   "cell_type": "markdown",
   "metadata": {},
   "source": [
    "So what is the linear equation that fits this data then?"
   ]
  },
  {
   "cell_type": "code",
   "execution_count": 14,
   "metadata": {
    "collapsed": true
   },
   "outputs": [],
   "source": [
    "# Set up the variables that theano will use\n",
    "X = tensor.vector('X')\n",
    "Y = tensor.vector('Y')\n",
    "params = tensor.vector('params')\n",
    "\n",
    "# Construct the mean of the model\n",
    "mu = tensor.dot(params[1], X) + params[0]\n",
    "\n",
    "# Construct the negative log likelihood\n",
    "likelihood = -1 * (-0.5 * tensor.log(2 * np.pi * tensor.square(params[2])) -\n",
    "                   tensor.sum(tensor.square(Y - mu)) / (2 * tensor.square(params[2])))\n",
    "\n",
    "# The compiled, callable theano function\n",
    "nll = function([params, In(X, value=df['speed'].values), In(Y, value=df['dist'].values)],\n",
    "               likelihood)\n",
    "nll_jac = function([params, In(X, value=df['speed'].values), In(Y, value=df['dist'].values)],\n",
    "                   tensor.jacobian(likelihood, params))\n",
    "nll_hess = function([params, In(X, value=df['speed'].values), In(Y, value=df['dist'].values)],\n",
    "                   tensor.hessian(likelihood, params))"
   ]
  },
  {
   "cell_type": "code",
   "execution_count": 20,
   "metadata": {
    "collapsed": false
   },
   "outputs": [
    {
     "data": {
      "text/plain": [
       "      fun: 6.08758013299555\n",
       " hess_inv: array([[  2.17438272e+03,  -1.26570397e+02,  -6.85473558e+00],\n",
       "       [ -1.26570397e+02,   8.15934355e+00,   9.52164119e-01],\n",
       "       [ -6.85473558e+00,   9.52164119e-01,   5.66100648e+03]])\n",
       "      jac: array([ -2.49034676e-07,  -4.28547874e-06,   4.71626527e-09])\n",
       "  message: 'Optimization terminated successfully.'\n",
       "     nfev: 92\n",
       "      nit: 75\n",
       "     njev: 92\n",
       "   status: 0\n",
       "  success: True\n",
       "        x: array([ -17.57909396,    3.93240503,  106.55292937])"
      ]
     },
     "execution_count": 20,
     "metadata": {},
     "output_type": "execute_result"
    }
   ],
   "source": [
    "minimize(nll, [1, 1, 1], jac=nll_jac, hess=nll_hess)"
   ]
  },
  {
   "cell_type": "code",
   "execution_count": 21,
   "metadata": {
    "collapsed": false
   },
   "outputs": [
    {
     "data": {
      "text/plain": [
       "<matplotlib.axes._subplots.AxesSubplot at 0x118128910>"
      ]
     },
     "execution_count": 21,
     "metadata": {},
     "output_type": "execute_result"
    },
    {
     "data": {
      "image/png": "[encoded data removed]",
      "text/plain": [
       "<matplotlib.figure.Figure at 0x1184dea90>"
      ]
     },
     "metadata": {},
     "output_type": "display_data"
    }
   ],
   "source": [
    "sns.regplot('speed', 'dist', data=df)"
   ]
  },
  {
   "cell_type": "code",
   "execution_count": 23,
   "metadata": {
    "collapsed": false
   },
   "outputs": [
    {
     "data": {
      "image/png": "[encoded data removed]",
      "text/plain": [
       "<matplotlib.figure.Figure at 0x11b26e850>"
      ]
     },
     "metadata": {},
     "output_type": "display_data"
    }
   ],
   "source": [
    "sns.coefplot('dist ~ speed', df, intercept=True)"
   ]
  },
  {
   "cell_type": "code",
   "execution_count": null,
   "metadata": {
    "collapsed": true
   },
   "outputs": [],
   "source": []
  }
 ],
 "metadata": {
  "kernelspec": {
   "display_name": "Python 2",
   "language": "python",
   "name": "python2"
  },
  "language_info": {
   "codemirror_mode": {
    "name": "ipython",
    "version": 2
   },
   "file_extension": ".py",
   "mimetype": "text/x-python",
   "name": "python",
   "nbconvert_exporter": "python",
   "pygments_lexer": "ipython2",
   "version": "2.7.11"
  }
 },
 "nbformat": 4,
 "nbformat_minor": 0
}
