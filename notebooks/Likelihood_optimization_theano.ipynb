{
 "cells": [
  {
   "cell_type": "code",
   "execution_count": 1,
   "metadata": {
    "collapsed": false
   },
   "outputs": [
    {
     "name": "stdout",
     "output_type": "stream",
     "text": [
      "Sat Feb 20 09:09:21 PST 2016\r\n"
     ]
    }
   ],
   "source": [
    "!date"
   ]
  },
  {
   "cell_type": "code",
   "execution_count": 8,
   "metadata": {
    "collapsed": true
   },
   "outputs": [],
   "source": [
    "%matplotlib inline\n",
    "\n",
    "from __future__ import division, print_function\n",
    "\n",
    "import theano\n",
    "import numpy as np\n",
    "import matplotlib.pyplot as plt\n",
    "\n",
    "from time import time\n",
    "from theano import tensor, function, shared"
   ]
  },
  {
   "cell_type": "code",
   "execution_count": 3,
   "metadata": {
    "collapsed": true
   },
   "outputs": [],
   "source": [
    "N = 1000"
   ]
  },
  {
   "cell_type": "code",
   "execution_count": 9,
   "metadata": {
    "collapsed": false,
    "scrolled": false
   },
   "outputs": [],
   "source": [
    "# Variable definitions\n",
    "a = 0.05 # Learning rate\n",
    "X = tensor.matrix('X') # Data locations\n",
    "G = tensor.matrix('Y') # Grid point locations\n",
    "M = shared(np.zeros(int(0.3 * N))) # Vector of priors\n",
    "theta = shared(np.random.rand(int(0.3 * N))) # Latent Gaussian variables\n",
    "y = tensor.vector('y') # Observations\n",
    "scale = tensor.scalar('scale') # Distance scale in Mahalanobis distance\n",
    "sigma_o = shared(20 * np.random.rand()) # Variance of data\n",
    "sigma_p = shared(20 * np.random.rand()) # Variance of LGP\n",
    "\n",
    "# Construct kernel weight matrix\n",
    "K = tensor.sum(tensor.square(tensor.reshape(X, [-1, 1, 2]) - G) / (4 * tensor.square(scale)), -1)\n",
    "norms = tensor.reshape(tensor.sum(K, axis=-1), [-1, 1])\n",
    "row_norms = tensor.cast(tensor.eq(norms, tensor.zeros_like(norms)), 'float32') + norms\n",
    "K_norm = K / norms\n",
    "\n",
    "# Construct the likelihoods + priors\n",
    "likelihood_obs = (-0.5 * tensor.log(2 * np.pi) -\n",
    "                  tensor.log(sigma_o) -\n",
    "                  tensor.sum(tensor.square(y - tensor.dot(K_norm, theta)) / (2 * tensor.square(sigma_o))))\n",
    "param_prior = (-0.5 * tensor.log(2 * np.pi) -\n",
    "                     tensor.log(sigma_p) -\n",
    "                     tensor.sum(tensor.square(M - theta) / (2 * tensor.square(sigma_p))))\n",
    "full_likelihood = -1 * (likelihood_obs + param_prior)\n",
    "\n",
    "# Compute the gradients\n",
    "gtheta, gsigma_o, gsigma_p = tensor.grad(full_likelihood, [theta, sigma_o, sigma_p])\n",
    "\n",
    "# The MAP estimator\n",
    "likelihood = function(inputs=[X, G, y, scale],\n",
    "                      outputs=[full_likelihood, theta, sigma_o, sigma_p],\n",
    "                      updates=[(theta, theta - a * gtheta),\n",
    "                               (sigma_o, sigma_o - a * gsigma_o),\n",
    "                               (sigma_p, sigma_p - a * gsigma_p),\n",
    "                               (M, theta)])"
   ]
  },
  {
   "cell_type": "code",
   "execution_count": 10,
   "metadata": {
    "collapsed": true
   },
   "outputs": [],
   "source": [
    "rs = np.random.RandomState(20160219)\n",
    "X, G, y, scale = (100 * rs.rand(N, 2),\n",
    "                  100 * rs.rand(int(0.3 * N), 2),\n",
    "                  rs.randint(10, size=N), 2)"
   ]
  },
  {
   "cell_type": "code",
   "execution_count": 11,
   "metadata": {
    "collapsed": false,
    "scrolled": false
   },
   "outputs": [
    {
     "name": "stdout",
     "output_type": "stream",
     "text": [
      "Testing batch size: 10\n",
      "Mean batch training time: 8.94336700439e-05\n",
      "Testing batch size: 12\n",
      "Mean batch training time: 8.74028205872e-05\n",
      "Testing batch size: 13\n",
      "Mean batch training time: 8.59162807465e-05\n",
      "Testing batch size: 14\n",
      "Mean batch training time: 8.68646701177e-05\n",
      "Testing batch size: 15\n",
      "Mean batch training time: 8.53598515193e-05\n",
      "Testing batch size: 17\n",
      "Mean batch training time: 8.75616868337e-05\n",
      "Testing batch size: 19\n",
      "Mean batch training time: 8.63311688105e-05\n",
      "Testing batch size: 21\n",
      "Mean batch training time: 8.76487890879e-05\n",
      "Testing batch size: 23\n",
      "Mean batch training time: 9.14485454559e-05\n",
      "Testing batch size: 25\n",
      "Mean batch training time: 8.7459286054e-05\n",
      "Testing batch size: 28\n",
      "Mean batch training time: 9.23777023951e-05\n",
      "Testing batch size: 30\n",
      "Mean batch training time: 8.78578821818e-05\n",
      "Testing batch size: 33\n",
      "Mean batch training time: 8.77496798833e-05\n",
      "Testing batch size: 37\n",
      "Mean batch training time: 8.53374401728e-05\n",
      "Testing batch size: 40\n",
      "Mean batch training time: 8.64307085673e-05\n",
      "Testing batch size: 44\n",
      "Mean batch training time: 8.63628784815e-05\n",
      "Testing batch size: 49\n",
      "Mean batch training time: 8.62969954809e-05\n",
      "Testing batch size: 54\n",
      "Mean batch training time: 9.43368673325e-05\n",
      "Testing batch size: 59\n",
      "Mean batch training time: 8.9719692866e-05\n",
      "Testing batch size: 65\n",
      "Mean batch training time: 9.41583315531e-05\n",
      "Testing batch size: 71\n",
      "Mean batch training time: 8.99672110875e-05\n",
      "Testing batch size: 79\n",
      "Mean batch training time: 9.71538623174e-05\n",
      "Testing batch size: 86\n",
      "Mean batch training time: 9.35684839884e-05\n",
      "Testing batch size: 95\n",
      "Mean batch training time: 8.81814161936e-05\n",
      "Testing batch size: 104\n",
      "Mean batch training time: 9.4387849172e-05\n",
      "Testing batch size: 115\n",
      "Mean batch training time: 9.1752966245e-05\n",
      "Testing batch size: 126\n",
      "Mean batch training time: 8.75200430552e-05\n",
      "Testing batch size: 138\n",
      "Mean batch training time: 8.70134433111e-05\n",
      "Testing batch size: 152\n",
      "Mean batch training time: 8.63834619522e-05\n",
      "Testing batch size: 167\n",
      "Mean batch training time: 8.560526371e-05\n",
      "Testing batch size: 184\n",
      "Mean batch training time: 8.75223080317e-05\n",
      "Testing batch size: 202\n",
      "Mean batch training time: 8.61560901006e-05\n",
      "Testing batch size: 222\n",
      "Mean batch training time: 9.06955401103e-05\n",
      "Testing batch size: 244\n",
      "Mean batch training time: 8.89650185903e-05\n",
      "Testing batch size: 268\n",
      "Mean batch training time: 8.70977242788e-05\n",
      "Testing batch size: 294\n",
      "Mean batch training time: 8.73948733012e-05\n",
      "Testing batch size: 323\n",
      "Mean batch training time: 8.65217447281e-05\n",
      "Testing batch size: 355\n",
      "Mean batch training time: 8.64932537079e-05\n",
      "Testing batch size: 390\n",
      "Mean batch training time: 8.53261550268e-05\n",
      "Testing batch size: 429\n",
      "Mean batch training time: 8.68173837662e-05\n",
      "Testing batch size: 471\n",
      "Mean batch training time: 9.24606720606e-05\n",
      "Testing batch size: 517\n",
      "Mean batch training time: 8.70486895243e-05\n",
      "Testing batch size: 568\n",
      "Mean batch training time: 9.23964182536e-05\n",
      "Testing batch size: 625\n",
      "Mean batch training time: 9.26321347555e-05\n",
      "Testing batch size: 686\n",
      "Mean batch training time: 8.92616907756e-05\n",
      "Testing batch size: 754\n",
      "Mean batch training time: 9.0492606163e-05\n",
      "Testing batch size: 828\n",
      "Mean batch training time: 9.10888115565e-05\n",
      "Testing batch size: 910\n",
      "Mean batch training time: 8.92217159271e-05\n",
      "Testing batch size: 1000\n",
      "Mean batch training time: 8.99036725362e-05\n"
     ]
    }
   ],
   "source": [
    "for batch_size in np.unique(np.logspace(1, 3).astype(int)):\n",
    "    print('Testing batch size: {}'.format(batch_size))\n",
    "    \n",
    "    batches = int(X.shape[0] / 1000) + 1\n",
    "    ll, so, sp = np.empty((100, batches)), np.empty((100, batches)), np.empty((100, batches))\n",
    "    t = np.empty((100, batches, int(0.3 * N)))\n",
    "    times = []\n",
    "\n",
    "    for epoch in range(100):\n",
    "        t0 = time()\n",
    "        for i, (mini_batch_x, mini_batch_y) in enumerate(zip(np.array_split(X, batches), np.array_split(y, batches))):\n",
    "            ll[epoch, i], t[epoch, i, :], so[epoch, i], sp[epoch, i] = likelihood(mini_batch_x, G, mini_batch_y, scale)\n",
    "        times.append((time() - t0) / 60)\n",
    "    \n",
    "    print('Mean batch training time: {}'.format(np.mean(times)))"
   ]
  },
  {
   "cell_type": "code",
   "execution_count": 12,
   "metadata": {
    "collapsed": false
   },
   "outputs": [
    {
     "data": {
      "text/plain": [
       "(array([ 47.,  45.,   8.,   0.,   0.,   0.,   0.,  11.,  44.,  45.]),\n",
       " array([ 13.29625907,  13.30084571,  13.30543235,  13.31001899,\n",
       "         13.31460563,  13.31919226,  13.3237789 ,  13.32836554,\n",
       "         13.33295218,  13.33753882,  13.34212545]),\n",
       " <a list of 10 Patch objects>)"
      ]
     },
     "execution_count": 12,
     "metadata": {},
     "output_type": "execute_result"
    },
    {
     "data": {
      "image/png": "[encoded data removed]",
      "text/plain": [
       "<matplotlib.figure.Figure at 0x10f624f50>"
      ]
     },
     "metadata": {},
     "output_type": "display_data"
    }
   ],
   "source": [
    "plt.hist(ll[np.where(np.isfinite(ll))])"
   ]
  },
  {
   "cell_type": "code",
   "execution_count": 13,
   "metadata": {
    "collapsed": false
   },
   "outputs": [
    {
     "data": {
      "text/plain": [
       "(array([ 20.,  20.,  20.,  20.,  19.,  20.,  20.,  20.,  20.,  21.]),\n",
       " array([ 62.23161957,  62.2523477 ,  62.27307584,  62.29380397,\n",
       "         62.3145321 ,  62.33526023,  62.35598836,  62.37671649,\n",
       "         62.39744463,  62.41817276,  62.43890089]),\n",
       " <a list of 10 Patch objects>)"
      ]
     },
     "execution_count": 13,
     "metadata": {},
     "output_type": "execute_result"
    },
    {
     "data": {
      "image/png": "[encoded data removed]",
      "text/plain": [
       "<matplotlib.figure.Figure at 0x11272c7d0>"
      ]
     },
     "metadata": {},
     "output_type": "display_data"
    }
   ],
   "source": [
    "plt.hist(so[np.where(np.isfinite(so))])"
   ]
  },
  {
   "cell_type": "code",
   "execution_count": 14,
   "metadata": {
    "collapsed": false
   },
   "outputs": [
    {
     "data": {
      "text/plain": [
       "(array([ 20.,  20.,  20.,  20.,  20.,  20.,  20.,  20.,  20.,  20.]),\n",
       " array([ 492.50210854,  492.5041288 ,  492.50614905,  492.50816931,\n",
       "         492.51018956,  492.51220981,  492.51423007,  492.51625032,\n",
       "         492.51827058,  492.52029083,  492.52231109]),\n",
       " <a list of 10 Patch objects>)"
      ]
     },
     "execution_count": 14,
     "metadata": {},
     "output_type": "execute_result"
    },
    {
     "data": {
      "image/png": "[encoded data removed]",
      "text/plain": [
       "<matplotlib.figure.Figure at 0x112739950>"
      ]
     },
     "metadata": {},
     "output_type": "display_data"
    }
   ],
   "source": [
    "plt.hist(sp[np.where(np.isfinite(sp))])"
   ]
  },
  {
   "cell_type": "code",
   "execution_count": 15,
   "metadata": {
    "collapsed": false
   },
   "outputs": [
    {
     "data": {
      "text/plain": [
       "(array([ 8993.,  8104.,  9201.,  6474.,  7867.,  9161.,  6318.,  2051.,\n",
       "          831.,  1000.]),\n",
       " array([ 0.56520228,  0.76104915,  0.95689602,  1.1527429 ,  1.34858977,\n",
       "         1.54443664,  1.74028351,  1.93613038,  2.13197725,  2.32782412,\n",
       "         2.52367099]),\n",
       " <a list of 10 Patch objects>)"
      ]
     },
     "execution_count": 15,
     "metadata": {},
     "output_type": "execute_result"
    },
    {
     "data": {
      "image/png": "[encoded data removed]",
      "text/plain": [
       "<matplotlib.figure.Figure at 0x11412fad0>"
      ]
     },
     "metadata": {},
     "output_type": "display_data"
    }
   ],
   "source": [
    "plt.hist(t[np.where(np.isfinite(t))])"
   ]
  },
  {
   "cell_type": "code",
   "execution_count": null,
   "metadata": {
    "collapsed": true
   },
   "outputs": [],
   "source": []
  }
 ],
 "metadata": {
  "kernelspec": {
   "display_name": "Python 2",
   "language": "python",
   "name": "python2"
  },
  "language_info": {
   "codemirror_mode": {
    "name": "ipython",
    "version": 2
   },
   "file_extension": ".py",
   "mimetype": "text/x-python",
   "name": "python",
   "nbconvert_exporter": "python",
   "pygments_lexer": "ipython2",
   "version": "2.7.11"
  }
 },
 "nbformat": 4,
 "nbformat_minor": 0
}
