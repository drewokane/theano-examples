{
 "cells": [
  {
   "cell_type": "code",
   "execution_count": 1,
   "metadata": {
    "collapsed": false
   },
   "outputs": [
    {
     "name": "stdout",
     "output_type": "stream",
     "text": [
      "Fri Feb 19 11:21:41 PST 2016\r\n"
     ]
    }
   ],
   "source": [
    "!date"
   ]
  },
  {
   "cell_type": "code",
   "execution_count": 2,
   "metadata": {
    "collapsed": true
   },
   "outputs": [],
   "source": [
    "%matplotlib inline\n",
    "\n",
    "from __future__ import division, print_function\n",
    "\n",
    "import theano\n",
    "import numpy as np\n",
    "import matplotlib.pyplot as plt\n",
    "\n",
    "from theano import tensor, function, shared"
   ]
  },
  {
   "cell_type": "code",
   "execution_count": 3,
   "metadata": {
    "collapsed": true
   },
   "outputs": [],
   "source": [
    "N = 100000"
   ]
  },
  {
   "cell_type": "code",
   "execution_count": 4,
   "metadata": {
    "collapsed": false,
    "scrolled": false
   },
   "outputs": [],
   "source": [
    "# Variable definitions\n",
    "a = 0.05 # Learning rate\n",
    "X = tensor.matrix('X') # Data locations\n",
    "G = tensor.matrix('Y') # Grid point locations\n",
    "M = shared(np.zeros(int(0.3 * N))) # Vector of priors\n",
    "theta = shared(np.random.rand(int(0.3 * N))) # Latent Gaussian variables\n",
    "y = tensor.vector('y') # Observations\n",
    "scale = tensor.scalar('scale') # Distance scale in Mahalanobis distance\n",
    "sigma_o = shared(20 * np.random.rand()) # Variance of data\n",
    "sigma_p = shared(20 * np.random.rand()) # Variance of LGP\n",
    "\n",
    "# Construct kernel weight matrix\n",
    "K = tensor.sum(tensor.square(tensor.reshape(X, [-1, 1, 2]) - G) / (4 * tensor.square(scale)), -1)\n",
    "norms = tensor.reshape(tensor.sum(K, axis=-1), [-1, 1])\n",
    "row_norms = tensor.cast(tensor.eq(norms, tensor.zeros_like(norms)), 'float32') + norms\n",
    "K_norm = K / norms\n",
    "\n",
    "# Construct the likelihoods + priors\n",
    "likelihood_obs = (-0.5 * tensor.log(2 * np.pi) -\n",
    "                  tensor.log(sigma_o) -\n",
    "                  tensor.sum(tensor.square(y - tensor.dot(K_norm, theta)) / (2 * tensor.square(sigma_o))))\n",
    "param_prior = (-0.5 * tensor.log(2 * np.pi) -\n",
    "                     tensor.log(sigma_p) -\n",
    "                     tensor.sum(tensor.square(M - theta) / (2 * tensor.square(sigma_p))))\n",
    "full_likelihood = -1 * (likelihood_obs + param_prior)\n",
    "\n",
    "# Compute the gradients\n",
    "gtheta, gsigma_o, gsigma_p = tensor.grad(full_likelihood, [theta, sigma_o, sigma_p])\n",
    "\n",
    "# The MAP estimator\n",
    "likelihood = function(inputs=[X, G, y, scale],\n",
    "                      outputs=[full_likelihood, theta, sigma_o, sigma_p],\n",
    "                      updates=[(theta, theta - a * gtheta),\n",
    "                               (sigma_o, sigma_o - a * gsigma_o),\n",
    "                               (sigma_p, sigma_p - a * gsigma_p),\n",
    "                               (M, theta)])"
   ]
  },
  {
   "cell_type": "code",
   "execution_count": null,
   "metadata": {
    "collapsed": true
   },
   "outputs": [],
   "source": [
    "rs = np.random.RandomState(20160219)\n",
    "X, G, y, scale = (100 * rs.rand(N, 2),\n",
    "                  100 * rs.rand(int(0.3 * N), 2),\n",
    "                  rs.randint(10, size=N), 2)"
   ]
  },
  {
   "cell_type": "code",
   "execution_count": null,
   "metadata": {
    "collapsed": false,
    "scrolled": false
   },
   "outputs": [],
   "source": [
    "%%time\n",
    "batches = int(X.shape[0] / 1000) + 1\n",
    "ll, so, sp = np.empty((100, batches)), np.empty((100, batches)), np.empty((100, batches))\n",
    "t = np.empty((100, batches, int(0.3 * N)))\n",
    "\n",
    "for epoch in range(100):\n",
    "    for i, (mini_batch_x, mini_batch_y) in enumerate(zip(np.array_split(X, batches), np.array_split(y, batches))):\n",
    "        ll[epoch, i], t[epoch, i, :], so[epoch, i], sp[epoch, i] = likelihood(mini_batch_x, G, mini_batch_y, scale)"
   ]
  },
  {
   "cell_type": "code",
   "execution_count": null,
   "metadata": {
    "collapsed": false
   },
   "outputs": [],
   "source": [
    "plt.hist(ll[np.where(np.isfinite(ll))])"
   ]
  },
  {
   "cell_type": "code",
   "execution_count": null,
   "metadata": {
    "collapsed": false
   },
   "outputs": [],
   "source": [
    "plt.hist(so[np.where(np.isfinite(so))])"
   ]
  },
  {
   "cell_type": "code",
   "execution_count": null,
   "metadata": {
    "collapsed": false
   },
   "outputs": [],
   "source": [
    "plt.hist(sp[np.where(np.isfinite(sp))])"
   ]
  },
  {
   "cell_type": "code",
   "execution_count": null,
   "metadata": {
    "collapsed": false
   },
   "outputs": [],
   "source": [
    "plt.hist(t[np.where(np.isfinite(t))])"
   ]
  },
  {
   "cell_type": "code",
   "execution_count": null,
   "metadata": {
    "collapsed": true
   },
   "outputs": [],
   "source": []
  }
 ],
 "metadata": {
  "kernelspec": {
   "display_name": "Python 2",
   "language": "python",
   "name": "python2"
  },
  "language_info": {
   "codemirror_mode": {
    "name": "ipython",
    "version": 2
   },
   "file_extension": ".py",
   "mimetype": "text/x-python",
   "name": "python",
   "nbconvert_exporter": "python",
   "pygments_lexer": "ipython2",
   "version": "2.7.11"
  }
 },
 "nbformat": 4,
 "nbformat_minor": 0
}
